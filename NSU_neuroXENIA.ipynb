{
 "cells": [
  {
   "cell_type": "markdown",
   "id": "49280555-c879-4a0e-bd56-a1105b1d62c8",
   "metadata": {},
   "source": [
    "1) Вспомнить всё: if"
   ]
  },
  {
   "cell_type": "code",
   "execution_count": 1,
   "id": "cc791d21-6f00-434f-b187-6f03d643694f",
   "metadata": {},
   "outputs": [
    {
     "name": "stdin",
     "output_type": "stream",
     "text": [
      "Введите температуру(число):  16\n"
     ]
    },
    {
     "name": "stdout",
     "output_type": "stream",
     "text": [
      "\n",
      "Нормально\n"
     ]
    }
   ],
   "source": [
    "t = int(input('Введите температуру(число): '))\n",
    "print()\n",
    "\n",
    "if t < 15.5:\n",
    "    print('Холодно')\n",
    "elif t > 28:\n",
    "    print('Жарко')\n",
    "else:\n",
    "    print('Нормально')"
   ]
  },
  {
   "cell_type": "markdown",
   "id": "b76bdf25-a13a-4899-8d81-8d494f618242",
   "metadata": {},
   "source": [
    "2) Найди кота"
   ]
  },
  {
   "cell_type": "code",
   "execution_count": 2,
   "id": "b339fb81-82fa-4f36-bb86-58d33a8fabf2",
   "metadata": {},
   "outputs": [
    {
     "name": "stdin",
     "output_type": "stream",
     "text": [
      "Введите количество строк:  3\n",
      "Введите текст строки:  рикотта\n",
      "Введите текст строки:  панакотта\n",
      "Введите текст строки:  кирка\n"
     ]
    },
    {
     "name": "stdout",
     "output_type": "stream",
     "text": [
      "\n",
      "Котэ есть\n",
      "Котэ есть\n",
      "Котэ нетъ\n"
     ]
    }
   ],
   "source": [
    "n = int(input('Введите количество строк: '))\n",
    "\n",
    "list = []\n",
    "for i in range(n):\n",
    "    list.append(input('Введите текст строки: '))\n",
    "\n",
    "print()\n",
    "\n",
    "for elem in list:\n",
    "    try:\n",
    "        if 'кот' in elem:\n",
    "            print('Котэ есть')\n",
    "        else:\n",
    "            print('Котэ нетъ')\n",
    "    except: print('Элемент списка имеет не строковый тип данных')\n"
   ]
  },
  {
   "cell_type": "markdown",
   "id": "f5318a91-e06b-4dc9-a407-7adf365c2afb",
   "metadata": {},
   "source": [
    "3) Слова и буквы"
   ]
  },
  {
   "cell_type": "code",
   "execution_count": 3,
   "id": "05ffd574-0732-462d-b581-4d731b1d1c88",
   "metadata": {},
   "outputs": [
    {
     "name": "stdin",
     "output_type": "stream",
     "text": [
      "Введите слово:  раз\n",
      "Введите слово:  двас\n",
      "Введите слово:  трипл\n",
      "Введите слово:  стоп\n"
     ]
    },
    {
     "name": "stdout",
     "output_type": "stream",
     "text": [
      "HET\n"
     ]
    }
   ],
   "source": [
    "lizt = []\n",
    "\n",
    "while True:\n",
    "    word = input('Введите слово: ')\n",
    "    lizt.append(word)\n",
    "    if str(word) == 'стоп':      \n",
    "        break\n",
    "        \n",
    "lizt = lizt.pop(-1)\n",
    "\n",
    "word_max = str(max(lizt, key=len))\n",
    "lizt_max = []\n",
    "for w in word_max:\n",
    "    lizt_max.append(w)\n",
    "\n",
    "word_min = str(min(lizt, key=len))\n",
    "lizt_min = []\n",
    "for w in word_min:\n",
    "    lizt_min.append(w)\n",
    "\n",
    "if set(lizt_min) in set(lizt_max):\n",
    "    print('DA')\n",
    "else:\n",
    "    print('HET')"
   ]
  },
  {
   "cell_type": "markdown",
   "id": "961e6563-c0e8-4163-91c4-d199fadf8f4f",
   "metadata": {},
   "source": [
    "4) Список покупок"
   ]
  },
  {
   "cell_type": "code",
   "execution_count": 6,
   "id": "893023a9-c418-44f8-9348-4f9b7c3bbd54",
   "metadata": {},
   "outputs": [
    {
     "name": "stdin",
     "output_type": "stream",
     "text": [
      "Введите количество покупок:  3\n",
      "Введите название товара:  хлеб\n",
      "Введите название товара:  мясо\n",
      "Введите название товара:  молоко\n"
     ]
    },
    {
     "name": "stdout",
     "output_type": "stream",
     "text": [
      "\n",
      "хлеб\n",
      "мясо\n",
      "молоко\n"
     ]
    }
   ],
   "source": [
    "z = int(input('Введите количество покупок: '))\n",
    "\n",
    "lisst = []\n",
    "for i in range(z):\n",
    "    lisst.append(input('Введите название товара: '))\n",
    "\n",
    "print()\n",
    "\n",
    "for lis in lisst:\n",
    "    print(lis)"
   ]
  },
  {
   "cell_type": "markdown",
   "id": "1979c992-a9c6-4275-9afd-be7e79b50eef",
   "metadata": {},
   "source": [
    "5) Ххооллоодд"
   ]
  },
  {
   "cell_type": "code",
   "execution_count": 7,
   "id": "a4617f02-16f8-473b-945f-de11e11fd620",
   "metadata": {},
   "outputs": [
    {
     "name": "stdin",
     "output_type": "stream",
     "text": [
      "Введите слово для удвоения:  мороз\n"
     ]
    },
    {
     "name": "stdout",
     "output_type": "stream",
     "text": [
      "ммоорроозз"
     ]
    }
   ],
   "source": [
    "letters = str(input('Введите слово для удвоения: '))\n",
    "\n",
    "for letter in letters:\n",
    "    print(letter*2, end='') "
   ]
  },
  {
   "cell_type": "markdown",
   "id": "f754a326-4be7-462d-8869-09efa4b3fee9",
   "metadata": {},
   "source": [
    "6) Формальное приветствие"
   ]
  },
  {
   "cell_type": "code",
   "execution_count": 8,
   "id": "4e94ec7e-3ec6-422c-a581-adc68d1b98e2",
   "metadata": {},
   "outputs": [
    {
     "name": "stdin",
     "output_type": "stream",
     "text": [
      "Ваше имя?  Иван\n",
      "Ваша фамилия?  Иванов\n"
     ]
    },
    {
     "name": "stdout",
     "output_type": "stream",
     "text": [
      "Здравствуйте, Иван Иванов\n"
     ]
    }
   ],
   "source": [
    "def greet():\n",
    "    name = input('Ваше имя? ')\n",
    "    surname = input('Ваша фамилия? ')\n",
    "    print(f'Здравствуйте, {name} {surname}')\n",
    "\n",
    "greet()"
   ]
  },
  {
   "cell_type": "markdown",
   "id": "e00dfe90-bf01-4d12-b1ab-60250b2f2ae6",
   "metadata": {},
   "source": [
    "7) Маленький колокольчик"
   ]
  },
  {
   "cell_type": "markdown",
   "id": "a8145f30-d3d8-4b55-94a9-3c1b2bca1379",
   "metadata": {},
   "source": [
    "8) Остаточные знания"
   ]
  },
  {
   "cell_type": "markdown",
   "id": "e56c6615-977d-4b80-b84f-0fbfc8bfdc44",
   "metadata": {},
   "source": [
    "не сталкивалась с созданием классов"
   ]
  },
  {
   "cell_type": "code",
   "execution_count": null,
   "id": "89cf6ddd-dd0c-4aa2-b46e-907d8f01f9f3",
   "metadata": {},
   "outputs": [],
   "source": []
  }
 ],
 "metadata": {
  "kernelspec": {
   "display_name": "Python 3 (ipykernel)",
   "language": "python",
   "name": "python3"
  },
  "language_info": {
   "codemirror_mode": {
    "name": "ipython",
    "version": 3
   },
   "file_extension": ".py",
   "mimetype": "text/x-python",
   "name": "python",
   "nbconvert_exporter": "python",
   "pygments_lexer": "ipython3",
   "version": "3.9.18"
  }
 },
 "nbformat": 4,
 "nbformat_minor": 5
}
